{
 "cells": [
  {
   "cell_type": "markdown",
   "metadata": {
    "id": "YnqIW4cNVpU3"
   },
   "source": [
    "# Python para análisis de datos\n",
    "\n",
    "\n",
    "Para iniciar con python se recomienda instalar [ANACONDA](https://www.continuum.io/downloads) , en la version  3.x\n",
    "\n",
    "---\n",
    "\n",
    "\n",
    "**Nota** Despues de instalado se puede cambiar de version siguiendo los  [pasos](http://conda.pydata.org/docs/py2or3.html) , [ayuda](http://stackoverflow.com/questions/30492623/using-both-python-2-x-and-python-3-x-in-ipython-notebook)\n",
    "---\n"
   ]
  },
  {
   "cell_type": "markdown",
   "metadata": {
    "id": "u5BgFra-tI-_"
   },
   "source": [
    "## Verifiquemos que tenemos lo que necesitamos"
   ]
  },
  {
   "cell_type": "code",
   "execution_count": 2,
   "metadata": {
    "colab": {
     "base_uri": "https://localhost:8080/",
     "height": 159
    },
    "id": "MdeGSjuQVpU4",
    "outputId": "ed38720b-3289-4747-a459-d5b9d51073a2",
    "scrolled": true
   },
   "outputs": [
    {
     "name": "stdout",
     "output_type": "stream",
     "text": [
      "Python: 3.9.12 (main, Apr  5 2022, 06:56:58) \n",
      "[GCC 7.5.0]\n",
      "sklearn: 1.0.2\n",
      "scipy: 1.7.3\n",
      "numpy: 1.21.5\n",
      "matplotlib: 3.5.1\n",
      "pandas: 1.4.2\n",
      "sklearn: 1.0.2\n"
     ]
    }
   ],
   "source": [
    "#@title\n",
    "# Python version\n",
    "import sys\n",
    "print('Python: {}'.format(sys.version))\n",
    "\n",
    "import sklearn\n",
    "print('sklearn: {}'.format(sklearn.__version__))\n",
    "# scipy\n",
    "import scipy\n",
    "print('scipy: {}'.format(scipy.__version__))\n",
    "# numpy\n",
    "import numpy\n",
    "print('numpy: {}'.format(numpy.__version__))\n",
    "# matplotlib\n",
    "import matplotlib\n",
    "print('matplotlib: {}'.format(matplotlib.__version__))\n",
    "# pandas\n",
    "import pandas\n",
    "print('pandas: {}'.format(pandas.__version__))\n",
    "# scikit-learn\n",
    "import sklearn\n",
    "print('sklearn: {}'.format(sklearn.__version__))\n"
   ]
  },
  {
   "cell_type": "markdown",
   "metadata": {
    "id": "Z8htMSrTVpU_"
   },
   "source": [
    "\n",
    "## Buscar ayuda\n",
    "Tenemos la opción de usar ? para ver la ayuda de una función, o usar tab para ver las funciones disponibles de un objeto\n",
    "\n",
    "Ejercicio: importar la biblioteca random y buscar ayuda sobre la función `random`\n",
    "\n"
   ]
  },
  {
   "cell_type": "code",
   "execution_count": 1,
   "metadata": {
    "id": "yNLm16ElVpU_"
   },
   "outputs": [],
   "source": [
    "import random\n",
    "\n",
    "\n",
    "\n"
   ]
  },
  {
   "cell_type": "markdown",
   "metadata": {
    "id": "CQgoLVyCVpVC"
   },
   "source": [
    "# Python\n",
    "Python es un lenguaje de programación de alto nivel, interpretado, interactivo, orientado a objetos y de propósito general. Fue creado por Guido van Rossum durante 1985-1990. Al igual que Perl, el código fuente de Python también está disponible bajo la Licencia Pública General de GNU (GPL).\n",
    "\n",
    "basado en [Complete Python Bootcamp: Go from zero to hero in Python 3](https://www.udemy.com/complete-python-bootcamp/) y [Python - Tutorial](https://www.tutorialspoint.com/python/index.htm)\n",
    "\n",
    "- se considera la mejor práctica ([PEP8](https://www.python.org/dev/peps/pep-0008/#function-and-variable-names)) que los nombres de las variables están en minúsculas con guiones bajos\n",
    "- Python utiliza *escritura dinámica*, lo que significa que puede reasignar variables a diferentes tipos de datos.\n",
    "- Python soporta cuatro tipos numéricos diferentes\n",
    "\n",
    "  - int (enteros con signo) `5`\n",
    "  - long (enteros largos, también se pueden representar en octal y hexadecimal) `5L`,` 0x80`\n",
    "  - float (valores reales de punto flotante) `0.0`,` 0.5e52`\n",
    "  - complejo (números complejos) `14.5j`\n",
    "- Se puede pensar en las listas de la versión más general de una secuencia en Python. A diferencia de las cadenas, son mutables, lo que significa que los elementos dentro de una lista se pueden cambiar.\n",
    "- Lo importante de una lista es que los elementos de una lista no tienen que ser del mismo tipo.\n",
    "- Una gran característica de las estructuras de datos de Python es que admiten el anidamiento. Esto significa que podemos tener estructuras de datos dentro de estructuras de datos\n",
    "-En las estructuras de datos Diccionario([dict](https://docs.python.org/3/tutorial/datastructures.html)) Las claves son únicas dentro de un diccionario, mientras que los valores pueden no serlo.\n",
    "- Los valores de un diccionario pueden ser de cualquier tipo, pero las claves deben ser de un tipo de datos inmutables como cadenas, números o tuplas.\n",
    "- En Python, la TUPLA es otro tipo de arreglo que dispone el Python. Esta variable está más cerca al concepto matemático de vector, puesto que en Python la tupla se maneja como una lista más cerrada porque no puede cambiar elementos individuales, en otras palabras, es inmutable según lo definen [tuples](https://docs.python.org/3/tutorial/datastructures.html#tuples-and-sequences)\n",
    "\n",
    "\n",
    "Un buen punto de partida es descargar un [datasheet] del tema de busqueda esta pagina presenta excelentes resumenes de python [Python Crash Course, Second Edition](https://ehmatthes.github.io/pcc_2e/cheat_sheets/cheat_sheets/), el cual es resumen de un muy buen [libro](https://nostarch.com/pythoncrashcourse2e)"
   ]
  },
  {
   "cell_type": "markdown",
   "metadata": {
    "id": "HOh33NVqWRhO"
   },
   "source": [
    "\n",
    "## Python basico\n",
    "\n",
    "\n",
    "Sin ejecutar el codigo, que crees que retorna cada item? pruebalo\n",
    "\n",
    "1. **numbers** \n",
    "\n",
    "```\n",
    "3/2\n",
    "3/float(2)\n",
    "3%2\n",
    "3.00//2.00\n",
    "2**3\n",
    "4**0.5\n",
    "import math\n",
    "math.sqrt(4)\n",
    "2 + 10 * 10 + 3\n",
    "(2+10) * (10+3)\n",
    "```\n",
    "2. **Variables**\n",
    "\n",
    "```\n",
    "a = 10\n",
    "a =a + 10\n",
    "a += 10\n",
    "b = c = a\n",
    "a,b,c = 1,2,\"john\"\n",
    "my_dogs = 2\n",
    "my_dogs = ['Sammy', 'Frankie']\n",
    "del my_dogs\n",
    "\n",
    "```\n",
    "3. **string**\n",
    "\n",
    "```\n",
    "str = 'Hello World!'\n",
    "\n",
    "print (str)          \n",
    "print (str[0])       \n",
    "print (str[2:5])     \n",
    "print (str[2:])      \n",
    "print (str * 2)      \n",
    "print (str + \"TEST\")\n",
    "str.upper()\n",
    "str.split()\n",
    "'Carlos: {}'.format(str)\n",
    "print(\" %s ,  %s\" %(str,\"I'm Carlos\"))\n",
    "\n",
    "print('I wrote %s programs today.' %3.75)\n",
    "print('I wrote %d programs today.' %3.75)\n",
    "print('I wrote %5.2f programs today.' %3.75)\n",
    "print('First: %s, Second: %5.2f, Third: %r' %('hi!',3.1415,'bye!'))\n",
    "print('The {2} {1} {0}'.format('fox','brown','quick'))\n",
    "print('First Object: {a}, Second Object: {b}, Third Object: {c}'.format(a=1,b='Two',c=12.3))\n",
    "\n",
    "print('{0:8} | {1:9}'.format('Fruit', 'Quantity'))\n",
    "print('{0:8} | {1:9}'.format('Apples', 3.))\n",
    "print('{0:8} | {1:9}'.format('Oranges', 10))\n",
    "\n",
    "print(f'I wrote {3.75:.1f} programs today.')\n",
    "print(f'First:{\"hi!\"}, Second: {3.1415:.2}, Third: {3}')\n",
    "\n",
    "```\n",
    "\n",
    "4. **Array list**\n",
    "\n",
    "```\n",
    "my_list = [1,2,3]\n",
    "my_list = ['A string',23,100.232,0]\n",
    "my_list + ['new item']\n",
    "my_list = my_list +['new item']\n",
    "my_list.pop(0)\n",
    "my_list.pop(-1)\n",
    "my_list.reverse()\n",
    "my_list.sort()\n",
    "my_list * 2\n",
    "my_list=[]\n",
    "my_list=array()\n",
    "\n",
    "num_list = range(1, 101)\n",
    "print(num_list[49])\n",
    "type(num_list)\n",
    "len(num_list)\n",
    "\n",
    "new_list = [0, 1, 2, 3, 4, 5, 6]\n",
    "new_list[2] = 2001;\n",
    "new_list[2:5]\n",
    "new_list[:3]\n",
    "new_list[-2:]\n",
    "\n",
    "list_1 = [1,2]\n",
    "list_2 = [3, 4]\n",
    "list_1=list_1+list_2\n",
    "list_1.append(list_2)\n",
    "[num*2 for num in list_1]\n",
    "\n",
    "lst_1=[1,2,3]\n",
    "lst_2=[4,5,6]\n",
    "lst_3=[7,8,9]\n",
    "matrix = [lst_1,lst_2,lst_3]\n",
    "matrix[0][0]=8\n",
    "print(matrix)\n",
    "\n",
    "```\n",
    "4.  **Dictionary**\n",
    "\n",
    "```\n",
    "d = {'a':10, 'b':20, 'c':30}\n",
    "d['a']\n",
    "d['b']=40\n",
    "d.clear()\n",
    "\n",
    "print(d)\n",
    "\n",
    "dict = {'Name': 'Zara', 'Age': 7, 'Name': 'Manni'}\n",
    "dict.values()\n",
    "dict.keys()\n",
    "dict.items()\n",
    "print(dict['Name'])\n",
    "dict2['Name']='Carlos'\n",
    "dict.update(dict2)\n",
    "\n",
    "\n",
    "locations = {'Sinan': ['Baltimore', 'MD'], 'Brandon': ['Arlington', 'VA']}\n",
    "print(locations['Brandon'][1])\n",
    "\n",
    "from numpy import random\n",
    "data = {f'a{i}' : random.randn() for i in range(7)}\n",
    "print(data['a1'])\n",
    "data\n",
    "```\n",
    "\n",
    "5. ** functions**\n",
    "\n",
    "```\n",
    "def calc(a, b):\n",
    "    return a + b\n",
    "print(calc(2,3))\n",
    "```\n",
    "\n",
    "Para probar cualquiera de los códigos anteriores, simplemente copie el bloque de código en la celda de python a continuación."
   ]
  },
  {
   "cell_type": "code",
   "execution_count": 5,
   "metadata": {
    "colab": {
     "base_uri": "https://localhost:8080/",
     "height": 35
    },
    "id": "jKLkNF0IVpVD",
    "outputId": "57badf0d-0820-4773-bf22-230705a3d371"
   },
   "outputs": [
    {
     "name": "stdout",
     "output_type": "stream",
     "text": [
      "Hello World!\n"
     ]
    }
   ],
   "source": [
    "3/2\n",
    "3/float(2)\n",
    "3%2\n",
    "import math\n",
    "math.sqrt(4)\n",
    "2 + 10 * 10 + 3\n",
    "(2+10) * (10+3)\n",
    "\n",
    "a = 10\n",
    "a =a + 10\n",
    "a += 10\n",
    "b = c = a\n",
    "a,b,c = 1,2,\"john\"\n",
    "my_dogs = 2\n",
    "my_dogs = ['Sammy', 'Frankie']\n",
    "del my_dogs\n",
    "\n",
    "str = 'Hello World!'\n",
    "print (str)"
   ]
  },
  {
   "cell_type": "markdown",
   "metadata": {
    "id": "dwJUVm0cVpVj"
   },
   "source": [
    "![numpy](https://upload.wikimedia.org/wikipedia/commons/thumb/1/1a/NumPy_logo.svg/640px-NumPy_logo.svg.png)\n",
    "\n",
    "\n",
    "## Numpy\n",
    "\n",
    "\n",
    "NumPy es el paquete fundamental para la computación científica con Python. Contiene entre otras cosas:\n",
    "\n",
    "- un poderoso objeto de matriz N-dimensional\n",
    "\n",
    "-funciones sofisticadas (de transmisión)\n",
    "\n",
    "- herramientas para integrar código C / C ++ y Fortran\n",
    "\n",
    "- Álgebra lineal útil, transformada de Fourier y capacidades de números aleatorios\n",
    "\n",
    "\n",
    "Todo Arreglo/array en Numpy es tratado como un objeto que entre sus propiedades tiene:\n",
    "\n",
    "- ndarray.ndim –> Proporciona el número de dimensiones de nuestro array. El array identidad es un array cuadrado con una diagonal principal unitaria.\n",
    "- ndarray.shape –> Devuelve la dimensión del array, es decir, una tupla de enteros indicando el tamaño del array en cada dimensión. Para una matriz de n filas y m columnas obtendremos (n,m).\n",
    "- ndarray.size –> Es el número total de elementos del array.\n",
    "- ndarray.dtype –> Es un objeto que describe el tipo de elementos del array.\n",
    "- ndarray.itemsize –> devuelve el tamaño del array en bytes.\n",
    "- ndarray.data –> El buffer contiene los elementos actuales del array.\n",
    "\n",
    "## Creación de Arrays\n",
    "\n",
    "\n",
    "- identity(n,dtype). Devuelve la matriz identidad, es decir, uma matriz cuadrada nula excepto en su diagonal principal que es unitaria. n es el número de filas (y columnas) que tendrá la matriz y dtype es el tipo de dato. Este argumento es opcional. Si no se establece, se toma por defecto como flotante.\n",
    "- ones(shape,dtype). Crea un array de unos compuesto de shape elementos.\n",
    "- zeros(shape, dtype). Crea un array de ceros compuesto de “shape” elementos”.\n",
    "- empty(shape, dtype). Crea un array de ceros compuesto de “shape” elementos” sin entradas.\n",
    "- eye(N, M, k, dtype). Crea un array bidimensional con unos en la diagonal k y ceros en el resto. Es similar a identity. Todos los argumentos son opcionales. N es el número de filas, M el de columnas y k es el índice de la diagonal. Cuando k=0 nos referimos a la diagonal principal y por tanto eye es similar a identity.\n",
    "- arange([start,]stop[,step,],dtype=None). Crea un array con valores distanciados step entre el valor inicial star y el valor final stop. Si no se establece step python establecerá uno por defecto.\n",
    "- linspace(start,stop,num,endpoint=True,retstep=False). Crea un array con valor inicial start, valor final stop y num elementos.\n",
    "- meshgrid(x,y). Genera una matriz de coordenadas a partir de dos los arrays x, y.\n",
    "\n",
    "## Funciones\n",
    "\n",
    "El módulo numpy contiene todas las operaciones usuales entre arrays como las matemáticas (suma, resta, multiplicación, etc), las lógicas (and, or, xor, etc), binarias, ... \n",
    "[Operaciones Numpy](https://drive.google.com/file/d/17wZqpCvckCb8Ous3HAaRqPu33rJKtTeB/view?usp=sharing)\n",
    "\n",
    "\n",
    "\n",
    "Lo más fácil y sencillo es en caso de duda consultar la documentación oficial. [documentacion](https://docs.scipy.org/doc/numpy/reference/index.html#reference)\n",
    "\n",
    "\n"
   ]
  },
  {
   "cell_type": "code",
   "execution_count": 6,
   "metadata": {
    "id": "1ZziqZo1VpVl"
   },
   "outputs": [],
   "source": [
    "import numpy as np # Importamos numpy como el alias np"
   ]
  },
  {
   "cell_type": "code",
   "execution_count": 7,
   "metadata": {
    "id": "cmhYnwFQVpVn"
   },
   "outputs": [
    {
     "name": "stdout",
     "output_type": "stream",
     "text": [
      "[0 1 2 3 4 5 6 7 8 9]\n",
      "<class 'numpy.ndarray'>\n",
      "1\n",
      "(10,)\n",
      "10\n",
      "int64\n",
      "8\n",
      "<memory at 0x7f83ccb6c4c0>\n"
     ]
    }
   ],
   "source": [
    "\n",
    "# tipo de datos\n",
    "arr1 = np.array([1, 2, 3], dtype=np.float64)\n",
    "arr2 = np.array([1, 2, 3], dtype=np.int32)\n",
    "#funciones basicas\n",
    "miArray = np.arange(10) # Creamos un array de 0 a 9 separados de uno en uno\n",
    "print (miArray) # Presentamos en pantalla el array creado\n",
    "print (type(miArray))   #Comprobamos que es un ndarray\n",
    "print (miArray.ndim )   # Consultamos el número de dimensiones\n",
    "print (miArray.shape )  # Consultamos la dimensión\n",
    "print (miArray.size )  # Consultamos la dimensión\n",
    "print (miArray.dtype )  # Consultamos el tipo de elementos del array\n",
    "print (miArray.itemsize )  # tamaño en bytes\n",
    "print (miArray.data )  # Consultamos el buffer de memoria.\n",
    "\n"
   ]
  },
  {
   "cell_type": "code",
   "execution_count": 8,
   "metadata": {
    "id": "sXZppWkaz0Ft"
   },
   "outputs": [
    {
     "name": "stdout",
     "output_type": "stream",
     "text": [
      "[7 8 9]\n",
      "3\n",
      "[2 5 8]\n",
      "[5 6 7 8 9]\n",
      "[[0. 0. 0. 0.]\n",
      " [1. 1. 1. 1.]\n",
      " [2. 2. 2. 2.]\n",
      " [3. 3. 3. 3.]\n",
      " [4. 4. 4. 4.]\n",
      " [5. 5. 5. 5.]\n",
      " [6. 6. 6. 6.]\n",
      " [7. 7. 7. 7.]]\n",
      "[[4. 4. 4. 4.]\n",
      " [3. 3. 3. 3.]\n",
      " [0. 0. 0. 0.]\n",
      " [6. 6. 6. 6.]]\n",
      "[[5. 5. 5. 5.]\n",
      " [3. 3. 3. 3.]\n",
      " [1. 1. 1. 1.]]\n",
      "[[ 0  1  2  3]\n",
      " [ 4  5  6  7]\n",
      " [ 8  9 10 11]\n",
      " [12 13 14 15]\n",
      " [16 17 18 19]\n",
      " [20 21 22 23]\n",
      " [24 25 26 27]\n",
      " [28 29 30 31]]\n"
     ]
    }
   ],
   "source": [
    "# array bidimensionales\n",
    "arr2d = np.array([[1, 2, 3], [4, 5, 6], [7, 8, 9]])\n",
    "\n",
    "print(arr2d[2])\n",
    "\n",
    "print(arr2d[0][2])\n",
    "#arr2d[0,2]\n",
    "\n",
    "#grupo de elementos\n",
    "print((arr2d[:,1]))\n",
    "\n",
    "# acesso con operaciones\n",
    "print(arr2d[arr2d>4])\n",
    "\n",
    "#fancy indexing (una matrix es en verdad un arreglo)\n",
    "arr = np.empty((8, 4))\n",
    "for i in range(8):\n",
    "    arr[i] = i\n",
    "print(arr)\n",
    "\n",
    "#seleccionar columnas en desorden\n",
    "print (arr[[4, 3, 0, 6]])\n",
    "#Using negative indices select rows from the end\n",
    "print(arr[[-3, -5, -7]])\n",
    "\n",
    "#reorganizar vectores\n",
    "arr = np.arange(32).reshape((8, 4))\n",
    "print(arr)"
   ]
  },
  {
   "cell_type": "markdown",
   "metadata": {
    "id": "HT6D0WPb0xIr"
   },
   "source": [
    "### **Ejercicio**\n",
    "\n",
    "Crear dos vectores de diez numeros aleatorios enteros [np.random.randint](https://docs.scipy.org/doc/numpy-1.15.0/reference/generated/numpy.random.randint.html) entre 1 y 10 y realizar las siguientes operaciones:\n",
    "- sumarlos\n",
    "- concatenar los dos arreglos\n",
    "- encontrar la sumatoria de los valores\n",
    "- encontrar la media de los valores\n",
    "- imprimir los numeros mayores que 5\n",
    "- determinar las posiciones de los numeros que son iguales en los arreglos\n",
    "\n"
   ]
  },
  {
   "cell_type": "code",
   "execution_count": 25,
   "metadata": {
    "id": "TuwfZ1cb0Jwv"
   },
   "outputs": [
    {
     "name": "stdout",
     "output_type": "stream",
     "text": [
      "EJERCICIO 1\n",
      "VECTORES\n",
      "[1 2 3]\n",
      "[1 2 3]\n",
      "SUMA\n",
      "[2 4 6]\n",
      "ARRAY\n",
      "[0 1 2 3 4 5 6 7 8 9]\n",
      "MEDIA\n",
      "4.5\n",
      "NUMEROS MAYORES A 5\n",
      "[6 7 8 9]\n"
     ]
    }
   ],
   "source": [
    "print (\"EJERCICIO 1\")\n",
    "arr1 = np.array([1, 2, 3], dtype=np.int32)\n",
    "arr2 = np.array([1, 2, 3], dtype=np.int32)\n",
    "#Vectores\n",
    "print (\"VECTORES\")\n",
    "print (arr1)\n",
    "print (arr2)\n",
    "\n",
    "#Suma \n",
    "print (\"SUMA\")\n",
    "print (arr1 + arr2)\n",
    "\n",
    "#concatenacion\n",
    "miArray = np.arange(10) \n",
    "print (\"ARRAY\")\n",
    "print (miArray)\n",
    "\n",
    "#Media\n",
    "media=np.mean(miArray)\n",
    "print (\"MEDIA\")\n",
    "print (media)\n",
    "\n",
    "#Mayores a 5\n",
    "print (\"NUMEROS MAYORES A 5\")\n",
    "print(miArray[miArray>5])\n",
    "\n",
    "\n",
    "\n"
   ]
  },
  {
   "cell_type": "markdown",
   "metadata": {
    "id": "XpDZB-nQVpVp"
   },
   "source": [
    "## SQLite\n",
    "\n",
    "Cuando abre un excel o CSV en Python y lo asigna a un nombre de variable, está usando la memoria de su computadora para guardar esa variable. Acceder a los datos desde una base de datos como SQL no solo es más eficiente, sino que también le permite importar solo las partes de los datos que necesita.\n",
    "\n",
    "\n",
    "Cada una de las bases de datos tienen sus librerias para python, a manera de ejemplo veamos SQLite.\n",
    "\n",
    "- Revisar la base de datos en linea [sqliteonline](https://sqliteonline.com/)\n",
    "\n",
    "\n",
    "- **Ejercicio** escribamos tres query (enunciado en [Markdown](https://github.com/adam-p/markdown-here/wiki/Markdown-Cheatsheet) y luego el codigo sql respectivo.\n",
    "\n",
    "los datos son   la Guía de valor para vehículos en Colombia suministrada por fasecolda, que se puede descargar de [Kaggle](https://www.kaggle.com/panchicore/vehicles-colombia-fasecolda/version/1)\n",
    "\n",
    "\n",
    "[Link de descarga](https://drive.google.com/file/d/1wVSVbq1cJ68dU-0D8c4tPh83Hjy8azPM/view?usp=sharing)\n",
    "\n",
    "\n",
    "tutorial [sqllite](http://www.datacarpentry.org/python-ecology-lesson/08-working-with-sql) \n"
   ]
  },
  {
   "cell_type": "code",
   "execution_count": 37,
   "metadata": {
    "colab": {
     "base_uri": "https://localhost:8080/",
     "height": 112,
     "resources": {
      "http://localhost:8080/nbextensions/google.colab/files.js": {
       "data": "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",
       "headers": [
        [
         "content-type",
         "application/javascript"
        ]
       ],
       "ok": true,
       "status": 200,
       "status_text": ""
      }
     }
    },
    "id": "VjzXrWwjXG-Z",
    "outputId": "0fcb60c1-d87d-4e3a-ee56-c3ed8147e7a7"
   },
   "outputs": [],
   "source": [
    "# Cargamos el archivo (solo en collaborative) en caso contrario colocar el archivo en la raiz\n",
    "#from google.colab import files\n",
    "#files.upload()"
   ]
  },
  {
   "cell_type": "raw",
   "metadata": {},
   "source": []
  },
  {
   "cell_type": "code",
   "execution_count": 106,
   "metadata": {
    "colab": {
     "base_uri": "https://localhost:8080/",
     "height": 1000
    },
    "id": "9KwWjMlhVpVp",
    "outputId": "3dc4b520-1a39-48d9-cea1-e8a27866a0f4"
   },
   "outputs": [
    {
     "ename": "SyntaxError",
     "evalue": "invalid syntax (3758157914.py, line 12)",
     "output_type": "error",
     "traceback": [
      "\u001b[0;36m  Input \u001b[0;32mIn [106]\u001b[0;36m\u001b[0m\n\u001b[0;31m    cur.execute('SELECT Clase,Marca FROM carros;'):\u001b[0m\n\u001b[0m                                                   ^\u001b[0m\n\u001b[0;31mSyntaxError\u001b[0m\u001b[0;31m:\u001b[0m invalid syntax\n"
     ]
    }
   ],
   "source": [
    "import sqlite3\n",
    "\n",
    "# Create a SQL connection to our SQLite database\n",
    "con = sqlite3.connect(\"guia_fasecolda.sqlite\")\n",
    "\n",
    "cur = con.cursor()\n",
    "\n",
    "#Consultas\n",
    "\n",
    "##1. \n",
    "### Imprimir valores de solo dos columnas de la tabla\n",
    "cur.execute('SELECT Clase,Marca FROM carros;')\n",
    "\n",
    "##2.\n",
    "### se usa la funcion read_sql_query de pandas para guardar el resultado a un dataframe\n",
    "df = pd.read_sql_query(\"SELECT * from carros\", con):\n",
    "query2 = df[df.year == 2010]\n",
    "### se almacena y se muestra el valor del dataframe.\n",
    "print(df.head())\n",
    "\n",
    "\n",
    "##3.\n",
    "### se imprime solo el valor de las columnas clase y marca de autos que corresponden a colombia.\n",
    "cur.execute('SELECT clase,marca FROM carros WHERE nacionalidad = \"COL\";'):\n",
    "\n",
    "#Be sure to close the connection.\n",
    "con.close()\n"
   ]
  },
  {
   "cell_type": "markdown",
   "metadata": {
    "id": "r0aBCTbvZE_7"
   },
   "source": [
    "## Pandas\n",
    "\n",
    "![Panda Logo](https://pandas.pydata.org/_static/pandas_logo.png)\n",
    "\n",
    "Documentación de [Pandas](http://pandas.pydata.org/pandas-docs/stable/10min.html)\n",
    "\n",
    "Pandas es una librería para el análisis de datos que cuenta con las estructuras de datos que necesitamos para limpiar los datos en bruto y que sean aptos para el análisis (por ejemplo, tablas). Es importante señalar aquí que, dado que pandas lleva a cabo tareas importantes, como alinear datos para su comparación, fusionar conjuntos de datos, gestión de datos perdidos, etc., se ha convertido en una librería muy importante para procesar datos a alto nivel en Python (es decir, estadísticas ). Pandas fue diseñada originalmente para gestionar datos financieros, y como alternativa al uso de hojas de cálculo (es decir, Microsoft Excel). Esta libreria tambien es equivalente en gran parte a las estructuras de datos de R.\n",
    "\n",
    "La estructura de datos básica de pandas son:\n",
    "\n",
    "- **Series**: Son arrays unidimensionales con indexación (arrays con índice o etiquetados), similar a los diccionarios. Pueden generarse a partir de diccionarios o de listas.\n",
    "- **DataFrame**: Es una colección ordenada de columnas con nombres y tipos. Son estructuras de datos similares a las tablas de bases de datos relacionales como SQL, donde una sola fila representa un único caso (ejemplo) y las columnas representan atributos particulares. \n",
    "- **Panel, Panel4D y PanelND**: Estas estructuras de datos permiten trabajar con más de dos dimensiones. \n",
    "\n",
    "Sobre este tipo de estructura de datos se aplican funciones, ejemplo:\n"
   ]
  },
  {
   "cell_type": "code",
   "execution_count": 40,
   "metadata": {
    "id": "YoLiQYnXVpVt",
    "scrolled": true
   },
   "outputs": [],
   "source": [
    "import pandas as pd\n",
    "\n",
    "dates = pd.date_range('20200101', periods=6)\n",
    "df = pd.DataFrame(np.random.randn(6,4), index=dates, columns=list('ABCD'))"
   ]
  },
  {
   "cell_type": "code",
   "execution_count": 41,
   "metadata": {
    "id": "ZmwpdP5jCDor"
   },
   "outputs": [
    {
     "data": {
      "text/html": [
       "<div>\n",
       "<style scoped>\n",
       "    .dataframe tbody tr th:only-of-type {\n",
       "        vertical-align: middle;\n",
       "    }\n",
       "\n",
       "    .dataframe tbody tr th {\n",
       "        vertical-align: top;\n",
       "    }\n",
       "\n",
       "    .dataframe thead th {\n",
       "        text-align: right;\n",
       "    }\n",
       "</style>\n",
       "<table border=\"1\" class=\"dataframe\">\n",
       "  <thead>\n",
       "    <tr style=\"text-align: right;\">\n",
       "      <th></th>\n",
       "      <th>A</th>\n",
       "      <th>B</th>\n",
       "      <th>C</th>\n",
       "      <th>D</th>\n",
       "    </tr>\n",
       "  </thead>\n",
       "  <tbody>\n",
       "    <tr>\n",
       "      <th>2020-01-01</th>\n",
       "      <td>0.180215</td>\n",
       "      <td>-0.054455</td>\n",
       "      <td>-0.537388</td>\n",
       "      <td>0.530846</td>\n",
       "    </tr>\n",
       "    <tr>\n",
       "      <th>2020-01-02</th>\n",
       "      <td>-1.116786</td>\n",
       "      <td>-1.022032</td>\n",
       "      <td>-1.435049</td>\n",
       "      <td>-0.045449</td>\n",
       "    </tr>\n",
       "    <tr>\n",
       "      <th>2020-01-03</th>\n",
       "      <td>-0.890793</td>\n",
       "      <td>0.403836</td>\n",
       "      <td>1.272860</td>\n",
       "      <td>-1.310877</td>\n",
       "    </tr>\n",
       "    <tr>\n",
       "      <th>2020-01-04</th>\n",
       "      <td>0.131678</td>\n",
       "      <td>1.244438</td>\n",
       "      <td>0.307883</td>\n",
       "      <td>1.729782</td>\n",
       "    </tr>\n",
       "    <tr>\n",
       "      <th>2020-01-05</th>\n",
       "      <td>1.938627</td>\n",
       "      <td>0.379783</td>\n",
       "      <td>0.363420</td>\n",
       "      <td>-0.182254</td>\n",
       "    </tr>\n",
       "  </tbody>\n",
       "</table>\n",
       "</div>"
      ],
      "text/plain": [
       "                   A         B         C         D\n",
       "2020-01-01  0.180215 -0.054455 -0.537388  0.530846\n",
       "2020-01-02 -1.116786 -1.022032 -1.435049 -0.045449\n",
       "2020-01-03 -0.890793  0.403836  1.272860 -1.310877\n",
       "2020-01-04  0.131678  1.244438  0.307883  1.729782\n",
       "2020-01-05  1.938627  0.379783  0.363420 -0.182254"
      ]
     },
     "execution_count": 41,
     "metadata": {},
     "output_type": "execute_result"
    }
   ],
   "source": [
    "#valores iniciales de la lista\n",
    "df.head()\n"
   ]
  },
  {
   "cell_type": "code",
   "execution_count": 42,
   "metadata": {
    "id": "yYSZQ0A_CJOX"
   },
   "outputs": [
    {
     "data": {
      "text/html": [
       "<div>\n",
       "<style scoped>\n",
       "    .dataframe tbody tr th:only-of-type {\n",
       "        vertical-align: middle;\n",
       "    }\n",
       "\n",
       "    .dataframe tbody tr th {\n",
       "        vertical-align: top;\n",
       "    }\n",
       "\n",
       "    .dataframe thead th {\n",
       "        text-align: right;\n",
       "    }\n",
       "</style>\n",
       "<table border=\"1\" class=\"dataframe\">\n",
       "  <thead>\n",
       "    <tr style=\"text-align: right;\">\n",
       "      <th></th>\n",
       "      <th>A</th>\n",
       "      <th>B</th>\n",
       "      <th>C</th>\n",
       "      <th>D</th>\n",
       "    </tr>\n",
       "  </thead>\n",
       "  <tbody>\n",
       "    <tr>\n",
       "      <th>2020-01-04</th>\n",
       "      <td>0.131678</td>\n",
       "      <td>1.244438</td>\n",
       "      <td>0.307883</td>\n",
       "      <td>1.729782</td>\n",
       "    </tr>\n",
       "    <tr>\n",
       "      <th>2020-01-05</th>\n",
       "      <td>1.938627</td>\n",
       "      <td>0.379783</td>\n",
       "      <td>0.363420</td>\n",
       "      <td>-0.182254</td>\n",
       "    </tr>\n",
       "    <tr>\n",
       "      <th>2020-01-06</th>\n",
       "      <td>-0.830024</td>\n",
       "      <td>1.203511</td>\n",
       "      <td>-1.289356</td>\n",
       "      <td>1.568613</td>\n",
       "    </tr>\n",
       "  </tbody>\n",
       "</table>\n",
       "</div>"
      ],
      "text/plain": [
       "                   A         B         C         D\n",
       "2020-01-04  0.131678  1.244438  0.307883  1.729782\n",
       "2020-01-05  1.938627  0.379783  0.363420 -0.182254\n",
       "2020-01-06 -0.830024  1.203511 -1.289356  1.568613"
      ]
     },
     "execution_count": 42,
     "metadata": {},
     "output_type": "execute_result"
    }
   ],
   "source": [
    "#valores finales de la lista\n",
    "df.tail(3)"
   ]
  },
  {
   "cell_type": "code",
   "execution_count": 43,
   "metadata": {
    "id": "UaxVTKJjCLQv"
   },
   "outputs": [
    {
     "name": "stdout",
     "output_type": "stream",
     "text": [
      "DatetimeIndex(['2020-01-01', '2020-01-02', '2020-01-03', '2020-01-04',\n",
      "               '2020-01-05', '2020-01-06'],\n",
      "              dtype='datetime64[ns]', freq='D')\n",
      "Index(['A', 'B', 'C', 'D'], dtype='object')\n"
     ]
    },
    {
     "data": {
      "text/plain": [
       "array([[ 0.18021533, -0.05445476, -0.53738794,  0.53084649],\n",
       "       [-1.11678568, -1.02203158, -1.4350486 , -0.04544931],\n",
       "       [-0.89079277,  0.4038362 ,  1.27286017, -1.31087672],\n",
       "       [ 0.13167799,  1.24443786,  0.30788301,  1.72978235],\n",
       "       [ 1.93862651,  0.37978278,  0.36341982, -0.18225437],\n",
       "       [-0.830024  ,  1.20351145, -1.28935636,  1.56861262]])"
      ]
     },
     "execution_count": 43,
     "metadata": {},
     "output_type": "execute_result"
    }
   ],
   "source": [
    "#aceder a los datos como un arreglo numpy\n",
    "print(df.index)\n",
    "print(df.columns)\n",
    "df.values\n"
   ]
  },
  {
   "cell_type": "code",
   "execution_count": 44,
   "metadata": {
    "id": "0iREinP3Cc-1"
   },
   "outputs": [
    {
     "data": {
      "text/html": [
       "<div>\n",
       "<style scoped>\n",
       "    .dataframe tbody tr th:only-of-type {\n",
       "        vertical-align: middle;\n",
       "    }\n",
       "\n",
       "    .dataframe tbody tr th {\n",
       "        vertical-align: top;\n",
       "    }\n",
       "\n",
       "    .dataframe thead th {\n",
       "        text-align: right;\n",
       "    }\n",
       "</style>\n",
       "<table border=\"1\" class=\"dataframe\">\n",
       "  <thead>\n",
       "    <tr style=\"text-align: right;\">\n",
       "      <th></th>\n",
       "      <th>A</th>\n",
       "      <th>B</th>\n",
       "      <th>C</th>\n",
       "      <th>D</th>\n",
       "    </tr>\n",
       "  </thead>\n",
       "  <tbody>\n",
       "    <tr>\n",
       "      <th>2020-01-02</th>\n",
       "      <td>-1.116786</td>\n",
       "      <td>-1.022032</td>\n",
       "      <td>-1.435049</td>\n",
       "      <td>-0.045449</td>\n",
       "    </tr>\n",
       "    <tr>\n",
       "      <th>2020-01-01</th>\n",
       "      <td>0.180215</td>\n",
       "      <td>-0.054455</td>\n",
       "      <td>-0.537388</td>\n",
       "      <td>0.530846</td>\n",
       "    </tr>\n",
       "    <tr>\n",
       "      <th>2020-01-05</th>\n",
       "      <td>1.938627</td>\n",
       "      <td>0.379783</td>\n",
       "      <td>0.363420</td>\n",
       "      <td>-0.182254</td>\n",
       "    </tr>\n",
       "    <tr>\n",
       "      <th>2020-01-03</th>\n",
       "      <td>-0.890793</td>\n",
       "      <td>0.403836</td>\n",
       "      <td>1.272860</td>\n",
       "      <td>-1.310877</td>\n",
       "    </tr>\n",
       "    <tr>\n",
       "      <th>2020-01-06</th>\n",
       "      <td>-0.830024</td>\n",
       "      <td>1.203511</td>\n",
       "      <td>-1.289356</td>\n",
       "      <td>1.568613</td>\n",
       "    </tr>\n",
       "    <tr>\n",
       "      <th>2020-01-04</th>\n",
       "      <td>0.131678</td>\n",
       "      <td>1.244438</td>\n",
       "      <td>0.307883</td>\n",
       "      <td>1.729782</td>\n",
       "    </tr>\n",
       "  </tbody>\n",
       "</table>\n",
       "</div>"
      ],
      "text/plain": [
       "                   A         B         C         D\n",
       "2020-01-02 -1.116786 -1.022032 -1.435049 -0.045449\n",
       "2020-01-01  0.180215 -0.054455 -0.537388  0.530846\n",
       "2020-01-05  1.938627  0.379783  0.363420 -0.182254\n",
       "2020-01-03 -0.890793  0.403836  1.272860 -1.310877\n",
       "2020-01-06 -0.830024  1.203511 -1.289356  1.568613\n",
       "2020-01-04  0.131678  1.244438  0.307883  1.729782"
      ]
     },
     "execution_count": 44,
     "metadata": {},
     "output_type": "execute_result"
    }
   ],
   "source": [
    "\n",
    "# acediendo ciertos datos\n",
    "df['A']\n",
    "df[1:3]\n",
    "df[df.A > 0]\n",
    "\n",
    "df.sort_values(by='B')\n",
    "\n"
   ]
  },
  {
   "cell_type": "code",
   "execution_count": 45,
   "metadata": {
    "id": "MkX7HItaC1tM"
   },
   "outputs": [
    {
     "data": {
      "text/html": [
       "<div>\n",
       "<style scoped>\n",
       "    .dataframe tbody tr th:only-of-type {\n",
       "        vertical-align: middle;\n",
       "    }\n",
       "\n",
       "    .dataframe tbody tr th {\n",
       "        vertical-align: top;\n",
       "    }\n",
       "\n",
       "    .dataframe thead th {\n",
       "        text-align: right;\n",
       "    }\n",
       "</style>\n",
       "<table border=\"1\" class=\"dataframe\">\n",
       "  <thead>\n",
       "    <tr style=\"text-align: right;\">\n",
       "      <th></th>\n",
       "      <th>A</th>\n",
       "      <th>B</th>\n",
       "      <th>C</th>\n",
       "      <th>D</th>\n",
       "    </tr>\n",
       "  </thead>\n",
       "  <tbody>\n",
       "    <tr>\n",
       "      <th>count</th>\n",
       "      <td>6.000000</td>\n",
       "      <td>6.000000</td>\n",
       "      <td>6.000000</td>\n",
       "      <td>6.000000</td>\n",
       "    </tr>\n",
       "    <tr>\n",
       "      <th>mean</th>\n",
       "      <td>-0.097847</td>\n",
       "      <td>0.359180</td>\n",
       "      <td>-0.219605</td>\n",
       "      <td>0.381777</td>\n",
       "    </tr>\n",
       "    <tr>\n",
       "      <th>std</th>\n",
       "      <td>1.138447</td>\n",
       "      <td>0.845912</td>\n",
       "      <td>1.055298</td>\n",
       "      <td>1.150100</td>\n",
       "    </tr>\n",
       "    <tr>\n",
       "      <th>min</th>\n",
       "      <td>-1.116786</td>\n",
       "      <td>-1.022032</td>\n",
       "      <td>-1.435049</td>\n",
       "      <td>-1.310877</td>\n",
       "    </tr>\n",
       "    <tr>\n",
       "      <th>25%</th>\n",
       "      <td>-0.875601</td>\n",
       "      <td>0.054105</td>\n",
       "      <td>-1.101364</td>\n",
       "      <td>-0.148053</td>\n",
       "    </tr>\n",
       "    <tr>\n",
       "      <th>50%</th>\n",
       "      <td>-0.349173</td>\n",
       "      <td>0.391809</td>\n",
       "      <td>-0.114752</td>\n",
       "      <td>0.242699</td>\n",
       "    </tr>\n",
       "    <tr>\n",
       "      <th>75%</th>\n",
       "      <td>0.168081</td>\n",
       "      <td>1.003593</td>\n",
       "      <td>0.349536</td>\n",
       "      <td>1.309171</td>\n",
       "    </tr>\n",
       "    <tr>\n",
       "      <th>max</th>\n",
       "      <td>1.938627</td>\n",
       "      <td>1.244438</td>\n",
       "      <td>1.272860</td>\n",
       "      <td>1.729782</td>\n",
       "    </tr>\n",
       "  </tbody>\n",
       "</table>\n",
       "</div>"
      ],
      "text/plain": [
       "              A         B         C         D\n",
       "count  6.000000  6.000000  6.000000  6.000000\n",
       "mean  -0.097847  0.359180 -0.219605  0.381777\n",
       "std    1.138447  0.845912  1.055298  1.150100\n",
       "min   -1.116786 -1.022032 -1.435049 -1.310877\n",
       "25%   -0.875601  0.054105 -1.101364 -0.148053\n",
       "50%   -0.349173  0.391809 -0.114752  0.242699\n",
       "75%    0.168081  1.003593  0.349536  1.309171\n",
       "max    1.938627  1.244438  1.272860  1.729782"
      ]
     },
     "execution_count": 45,
     "metadata": {},
     "output_type": "execute_result"
    }
   ],
   "source": [
    "# toda la estadistica descriptiva\n",
    "\n",
    "df.describe()"
   ]
  },
  {
   "cell_type": "markdown",
   "metadata": {
    "id": "DObFMaMz_alB"
   },
   "source": [
    "Existen herramientas que permiten generar una descripción grafica y numerica automaticamente tales como:\n",
    "- [sweetviz](https://github.com/fbdesignpro/sweetviz)\n",
    "- [pandas profiling](https://github.com/pandas-profiling/pandas-profiling)\n",
    "\n",
    "Estas librerias no estan por defecto instaladas en google colab o en su ambiente de trabajo, por lo cual se pueden instalar con \n",
    "\n",
    "  *!pip install package*"
   ]
  },
  {
   "cell_type": "code",
   "execution_count": 108,
   "metadata": {
    "id": "_sR1qEbu_jI-"
   },
   "outputs": [
    {
     "name": "stdout",
     "output_type": "stream",
     "text": [
      "Defaulting to user installation because normal site-packages is not writeable\n",
      "Looking in links: /usr/share/pip-wheels\n",
      "Requirement already satisfied: sweetviz in ./.local/lib/python3.9/site-packages (2.1.4)\n",
      "Requirement already satisfied: matplotlib>=3.1.3 in /opt/conda/envs/anaconda-2022.05-py39/lib/python3.9/site-packages (from sweetviz) (3.5.1)\n",
      "Requirement already satisfied: jinja2>=2.11.1 in /opt/conda/envs/anaconda-2022.05-py39/lib/python3.9/site-packages (from sweetviz) (2.11.3)\n",
      "Requirement already satisfied: pandas!=1.0.0,!=1.0.1,!=1.0.2,>=0.25.3 in /opt/conda/envs/anaconda-2022.05-py39/lib/python3.9/site-packages (from sweetviz) (1.4.2)\n",
      "Requirement already satisfied: numpy>=1.16.0 in /opt/conda/envs/anaconda-2022.05-py39/lib/python3.9/site-packages (from sweetviz) (1.21.5)\n",
      "Requirement already satisfied: scipy>=1.3.2 in /opt/conda/envs/anaconda-2022.05-py39/lib/python3.9/site-packages (from sweetviz) (1.7.3)\n",
      "Requirement already satisfied: importlib-resources>=1.2.0 in ./.local/lib/python3.9/site-packages (from sweetviz) (5.12.0)\n",
      "Requirement already satisfied: tqdm>=4.43.0 in /opt/conda/envs/anaconda-2022.05-py39/lib/python3.9/site-packages (from sweetviz) (4.64.0)\n",
      "Requirement already satisfied: zipp>=3.1.0 in /opt/conda/envs/anaconda-2022.05-py39/lib/python3.9/site-packages (from importlib-resources>=1.2.0->sweetviz) (3.7.0)\n",
      "Requirement already satisfied: MarkupSafe>=0.23 in /opt/conda/envs/anaconda-2022.05-py39/lib/python3.9/site-packages (from jinja2>=2.11.1->sweetviz) (2.0.1)\n",
      "Requirement already satisfied: python-dateutil>=2.7 in /opt/conda/envs/anaconda-2022.05-py39/lib/python3.9/site-packages (from matplotlib>=3.1.3->sweetviz) (2.8.2)\n",
      "Requirement already satisfied: pillow>=6.2.0 in /opt/conda/envs/anaconda-2022.05-py39/lib/python3.9/site-packages (from matplotlib>=3.1.3->sweetviz) (9.0.1)\n",
      "Requirement already satisfied: pyparsing>=2.2.1 in /opt/conda/envs/anaconda-2022.05-py39/lib/python3.9/site-packages (from matplotlib>=3.1.3->sweetviz) (3.0.4)\n",
      "Requirement already satisfied: kiwisolver>=1.0.1 in /opt/conda/envs/anaconda-2022.05-py39/lib/python3.9/site-packages (from matplotlib>=3.1.3->sweetviz) (1.3.2)\n",
      "Requirement already satisfied: fonttools>=4.22.0 in /opt/conda/envs/anaconda-2022.05-py39/lib/python3.9/site-packages (from matplotlib>=3.1.3->sweetviz) (4.25.0)\n",
      "Requirement already satisfied: packaging>=20.0 in /opt/conda/envs/anaconda-2022.05-py39/lib/python3.9/site-packages (from matplotlib>=3.1.3->sweetviz) (21.3)\n",
      "Requirement already satisfied: cycler>=0.10 in /opt/conda/envs/anaconda-2022.05-py39/lib/python3.9/site-packages (from matplotlib>=3.1.3->sweetviz) (0.11.0)\n",
      "Requirement already satisfied: pytz>=2020.1 in /opt/conda/envs/anaconda-2022.05-py39/lib/python3.9/site-packages (from pandas!=1.0.0,!=1.0.1,!=1.0.2,>=0.25.3->sweetviz) (2021.3)\n",
      "Requirement already satisfied: six>=1.5 in /opt/conda/envs/anaconda-2022.05-py39/lib/python3.9/site-packages (from python-dateutil>=2.7->matplotlib>=3.1.3->sweetviz) (1.16.0)\n"
     ]
    }
   ],
   "source": [
    "!pip install sweetviz"
   ]
  },
  {
   "cell_type": "code",
   "execution_count": null,
   "metadata": {
    "id": "_KLpgAmS_qpP"
   },
   "outputs": [],
   "source": []
  },
  {
   "cell_type": "markdown",
   "metadata": {
    "id": "vpoVY9CuVpV1"
   },
   "source": [
    "## Comprender los datos con estadísticas descriptivas\n",
    "Una vez que haya cargado sus datos en Python, debe poder entenderlos. Cuanto mejor pueda comprender sus datos, mejores y más precisos serán los modelos que puede construir.\n",
    "El primer paso para comprender sus datos es utilizar estadísticas descriptivas. \n",
    "\n",
    "### **Ejercicio**\n",
    "\n",
    "- Realize un query sobre los datos que desea analizar con datos de precios de varios años\n",
    "- Revise la distribución de sus datos con la función [describe()](http://pandas.pydata.org/pandas-docs/stable/generated/pandas.DataFrame.describe.html#pandas.DataFrame.describe).\n",
    "- Calcule la correlación por pares entre sus variables usando la función [corr ()](http://pandas.pydata.org/pandas-docs/stable/generated/pandas.DataFrame.corr.html#pandas.DataFrame.corr) .\n",
    "\n",
    "[documentación](http://pandas.pydata.org/pandas-docs/stable/generated/pandas.DataFrame.html)\n",
    "\n",
    "\n",
    "\n"
   ]
  },
  {
   "cell_type": "code",
   "execution_count": 134,
   "metadata": {
    "id": "E8nbRMhzVpVw"
   },
   "outputs": [
    {
     "name": "stdout",
     "output_type": "stream",
     "text": [
      "funcion describe\n",
      "              A         B         C         D\n",
      "count  8.000000  8.000000  8.000000  8.000000\n",
      "mean   4.059507  4.059789  4.022492  4.042472\n",
      "std    3.035644  3.007256  3.117581  3.070667\n",
      "min   -1.116786 -1.022032 -1.435049 -1.310877\n",
      "25%    2.934633  2.910757  2.967104  2.959516\n",
      "50%    3.443354  3.442323  3.434789  3.451484\n",
      "75%    5.991801  5.931059  6.013267  5.945173\n",
      "max    8.000000  8.000000  8.000000  8.000000\n"
     ]
    },
    {
     "data": {
      "text/html": [
       "<table border=\"1\" class=\"dataframe\">\n",
       "  <thead>\n",
       "    <tr style=\"text-align: right;\">\n",
       "      <th></th>\n",
       "      <th>A</th>\n",
       "      <th>B</th>\n",
       "      <th>C</th>\n",
       "      <th>D</th>\n",
       "    </tr>\n",
       "  </thead>\n",
       "  <tbody>\n",
       "    <tr>\n",
       "      <th>count</th>\n",
       "      <td>8.000000</td>\n",
       "      <td>8.000000</td>\n",
       "      <td>8.000000</td>\n",
       "      <td>8.000000</td>\n",
       "    </tr>\n",
       "    <tr>\n",
       "      <th>mean</th>\n",
       "      <td>4.293519</td>\n",
       "      <td>4.291144</td>\n",
       "      <td>4.265023</td>\n",
       "      <td>4.269804</td>\n",
       "    </tr>\n",
       "    <tr>\n",
       "      <th>std</th>\n",
       "      <td>3.019885</td>\n",
       "      <td>2.994238</td>\n",
       "      <td>3.098308</td>\n",
       "      <td>3.062578</td>\n",
       "    </tr>\n",
       "    <tr>\n",
       "      <th>min</th>\n",
       "      <td>-1.116786</td>\n",
       "      <td>-1.022032</td>\n",
       "      <td>-1.435049</td>\n",
       "      <td>-1.310877</td>\n",
       "    </tr>\n",
       "    <tr>\n",
       "      <th>25%</th>\n",
       "      <td>3.010391</td>\n",
       "      <td>2.983131</td>\n",
       "      <td>3.079962</td>\n",
       "      <td>3.042879</td>\n",
       "    </tr>\n",
       "    <tr>\n",
       "      <th>50%</th>\n",
       "      <td>3.751431</td>\n",
       "      <td>3.751056</td>\n",
       "      <td>3.728641</td>\n",
       "      <td>3.746978</td>\n",
       "    </tr>\n",
       "    <tr>\n",
       "      <th>75%</th>\n",
       "      <td>6.493851</td>\n",
       "      <td>6.448294</td>\n",
       "      <td>6.509950</td>\n",
       "      <td>6.458880</td>\n",
       "    </tr>\n",
       "    <tr>\n",
       "      <th>max</th>\n",
       "      <td>8.000000</td>\n",
       "      <td>8.000000</td>\n",
       "      <td>8.000000</td>\n",
       "      <td>8.000000</td>\n",
       "    </tr>\n",
       "  </tbody>\n",
       "</table>"
      ],
      "text/plain": [
       "<IPython.core.display.HTML object>"
      ]
     },
     "metadata": {},
     "output_type": "display_data"
    },
    {
     "name": "stdout",
     "output_type": "stream",
     "text": [
      "Correlacion\n",
      "          A         B         C         D\n",
      "A  1.000000  0.999926  0.999531  0.999809\n",
      "B  0.999926  1.000000  0.999131  0.999579\n",
      "C  0.999531  0.999131  1.000000  0.999896\n",
      "D  0.999809  0.999579  0.999896  1.000000\n"
     ]
    },
    {
     "data": {
      "text/html": [
       "<table border=\"1\" class=\"dataframe\">\n",
       "  <thead>\n",
       "    <tr style=\"text-align: right;\">\n",
       "      <th></th>\n",
       "      <th>A</th>\n",
       "      <th>B</th>\n",
       "      <th>C</th>\n",
       "      <th>D</th>\n",
       "    </tr>\n",
       "  </thead>\n",
       "  <tbody>\n",
       "    <tr>\n",
       "      <th>A</th>\n",
       "      <td>1.000000</td>\n",
       "      <td>0.999926</td>\n",
       "      <td>0.999531</td>\n",
       "      <td>0.999809</td>\n",
       "    </tr>\n",
       "    <tr>\n",
       "      <th>B</th>\n",
       "      <td>0.999926</td>\n",
       "      <td>1.000000</td>\n",
       "      <td>0.999131</td>\n",
       "      <td>0.999579</td>\n",
       "    </tr>\n",
       "    <tr>\n",
       "      <th>C</th>\n",
       "      <td>0.999531</td>\n",
       "      <td>0.999131</td>\n",
       "      <td>1.000000</td>\n",
       "      <td>0.999896</td>\n",
       "    </tr>\n",
       "    <tr>\n",
       "      <th>D</th>\n",
       "      <td>0.999809</td>\n",
       "      <td>0.999579</td>\n",
       "      <td>0.999896</td>\n",
       "      <td>1.000000</td>\n",
       "    </tr>\n",
       "  </tbody>\n",
       "</table>"
      ],
      "text/plain": [
       "<IPython.core.display.HTML object>"
      ]
     },
     "metadata": {},
     "output_type": "display_data"
    }
   ],
   "source": [
    "import pandas as pd\n",
    "import sqlite3\n",
    "import numpy as np  \n",
    "from IPython.display import display, HTML\n",
    "\n",
    "# Read sqlite query results into a pandas DataFrame\n",
    "con = sqlite3.connect(\"guia_fasecolda.sqlite\")\n",
    "\n",
    "#Consultas\n",
    "#df = pd.read_sql_query('SELECT Marca,Referencia1,Cilindraje,Peso,\"2015\",\"2016\",\"2017\" FROM carros where Cilindraje<1500 AND Cilindraje>1200 AND \"2015\">0;', con)\n",
    "#df = pd.read_sql_query('SELECT Marca FROM carros', con)\n",
    "\n",
    "#Funcion describe()\n",
    "df = df.describe()\n",
    "print(\"funcion describe\")\n",
    "print(df)\n",
    "display(HTML(df.describe().to_html()))\n",
    "\n",
    "#Funcion describe()\n",
    "print(\"Correlacion\")\n",
    "print(df.corr())\n",
    "display(HTML(df.corr().to_html()))\n",
    "\n",
    "\n",
    "#print(\"Total de memoria ram requerida \",df.memory_usage().sum())\n",
    "#estadistica descriptiva\n",
    "\n",
    "con.close()\n",
    "\n"
   ]
  },
  {
   "cell_type": "markdown",
   "metadata": {
    "id": "HEgsy_N3DXh3"
   },
   "source": [
    "Como notaste en el ejemplo anterior Pandas permite conectarse directamente a la base de datos, tambien permite leer datos en multiples formatos [documentation](https://pandas.pydata.org/pandas-docs/stable/user_guide/io.html) , por ejemplo si yo quiero cargar los datos originales de FASECOLDA"
   ]
  },
  {
   "cell_type": "code",
   "execution_count": 54,
   "metadata": {
    "id": "wy3UVO1dEC0E"
   },
   "outputs": [],
   "source": [
    "# Cargamos el archivo (solo en collaborative)\n",
    "#from google.colab import files\n",
    "#files.upload()"
   ]
  },
  {
   "cell_type": "code",
   "execution_count": 135,
   "metadata": {
    "id": "wmqeI5MGD8D7"
   },
   "outputs": [
    {
     "name": "stdout",
     "output_type": "stream",
     "text": [
      "Total de memoria ram requerida  7559392\n",
      "Index(['Novedad', 'Marca', 'Clase', 'Codigo', 'HomologoCodigo', 'Referencia1',\n",
      "       'Referencia2', 'Referencia3', 'Peso', 'IdServicio', 'Servicio', '1970',\n",
      "       '1971', '1972', '1973', '1974', '1975', '1976', '1977', '1978', '1979',\n",
      "       '1980', '1981', '1982', '1983', '1984', '1985', '1986', '1987', '1988',\n",
      "       '1989', '1990', '1991', '1992', '1993', '1994', '1995', '1996', '1997',\n",
      "       '1998', '1999', '2000', '2001', '2002', '2003', '2004', '2005', '2006',\n",
      "       '2007', '2008', '2009', '2010', '2011', '2012', '2013', '2014', '2015',\n",
      "       '2016', '2017', '2018', 'Bcpp', 'Importado', 'Potencia', 'TipoCaja',\n",
      "       'Cilindraje', 'Nacionalidad', 'CapacidadPasajeros', 'CapacidadCarga',\n",
      "       'Puertas', 'AireAcondicionado', 'Ejes', 'Estado', 'Combustible',\n",
      "       'Transmision', 'Um', 'PesoCategoria'],\n",
      "      dtype='object')\n"
     ]
    }
   ],
   "source": [
    "\n",
    "data = pd.read_csv('guia_fasecolda.csv')\n",
    "print(\"Total de memoria ram requerida \",data.memory_usage().sum())\n",
    "\n",
    "print(data.columns)"
   ]
  },
  {
   "cell_type": "markdown",
   "metadata": {
    "id": "VzyyYTaRVpVy"
   },
   "source": [
    "\n",
    "\n",
    "## Comprender los datos con visualización\n",
    "\n",
    "Debes dedicar tiempo a comprender mejor tus datos. Una segunda forma de mejorar su comprensión de sus datos es mediante el uso de técnicas de visualización de datos . Usar la representación en Python para comprender los atributos por sí solos y sus interacciones. Ejemplos:\n",
    "- Use la función hist () para crear un histograma de cada atributo.\n",
    "- Use la función plot (kind = 'box') para crear diagramas de caja y cajas de cada atributo.\n",
    "- Utilice la función  pandas.scatter_matrix() para crear gráficos de dispersión por pares de todos los atributos.\n",
    "\n",
    "Es importante agregar```% inline matplotlib```  en la primera línea de su código si desea que la imagen esté incrustada en el *notebook* de Júpiter.\n",
    "\n",
    "\n",
    "[pyplot](http://matplotlib.org/api/pyplot_api.html) es la mejor opción, claro que si trabajamos con Pandas, el tiene ya programada las graficas utlizando toda la información del dataset [ejemplo](https://pandas.pydata.org/pandas-docs/stable/10min.html#plotting)\n",
    "\n",
    "\n",
    "\n"
   ]
  },
  {
   "cell_type": "markdown",
   "metadata": {
    "id": "E7btRhdpxRlz"
   },
   "source": [
    "### **Ejercicio** \n",
    "\n",
    "- Cargar el dataset de Fasecolda suministrado en csv\n",
    "\n",
    "-  Comprenda sus datos usando la función `columns` para ver las filas\n",
    "-  Utilize diferentes criterios para filtrar los datos.\n",
    "-  utilize por lo menos tres funciones de pandas para describir los datos filtrados\n",
    "-  Guarde los datos filtrados\n",
    "-  Realize por lo menos tres graficas de los datos\n",
    "\n",
    "[Link de descarga](https://drive.google.com/file/d/1mPnVLno8uLF1bD1EQbIRVUmxk1c1BVc4/view?usp=sharing)"
   ]
  },
  {
   "cell_type": "code",
   "execution_count": 142,
   "metadata": {
    "id": "tRTp5M0wVpVy"
   },
   "outputs": [
    {
     "name": "stdout",
     "output_type": "stream",
     "text": [
      "Index(['Novedad', 'Marca', 'Clase', 'Codigo', 'HomologoCodigo', 'Referencia1',\n",
      "       'Referencia2', 'Referencia3', 'Peso', 'IdServicio', 'Servicio', '1970',\n",
      "       '1971', '1972', '1973', '1974', '1975', '1976', '1977', '1978', '1979',\n",
      "       '1980', '1981', '1982', '1983', '1984', '1985', '1986', '1987', '1988',\n",
      "       '1989', '1990', '1991', '1992', '1993', '1994', '1995', '1996', '1997',\n",
      "       '1998', '1999', '2000', '2001', '2002', '2003', '2004', '2005', '2006',\n",
      "       '2007', '2008', '2009', '2010', '2011', '2012', '2013', '2014', '2015',\n",
      "       '2016', '2017', '2018', 'Bcpp', 'Importado', 'Potencia', 'TipoCaja',\n",
      "       'Cilindraje', 'Nacionalidad', 'CapacidadPasajeros', 'CapacidadCarga',\n",
      "       'Puertas', 'AireAcondicionado', 'Ejes', 'Estado', 'Combustible',\n",
      "       'Transmision', 'Um', 'PesoCategoria'],\n",
      "      dtype='object')\n",
      "Clase\n",
      "      Novedad    Marca        Clase    Codigo  HomologoCodigo  \\\n",
      "4           M   AUTECO  MOTOCICLETA    317003             NaN   \n",
      "5           M   AUTECO  MOTOCICLETA    317004             NaN   \n",
      "6           M   AUTECO  MOTOCICLETA    317006             NaN   \n",
      "7           M   AUTECO  MOTOCICLETA    317007             NaN   \n",
      "8           M   AUTECO  MOTOCICLETA    317008             NaN   \n",
      "...       ...      ...          ...       ...             ...   \n",
      "12427       N  STÄRKER  MOTOCICLETA  40017003             NaN   \n",
      "12428       N  STÄRKER  MOTOCICLETA  40017004             NaN   \n",
      "12429       N  SCOMADI  MOTOCICLETA  40117001             NaN   \n",
      "12430       N   HAOJUE  MOTOCICLETA  40217001             NaN   \n",
      "12431       N   HAOJUE  MOTOCICLETA  40217002             NaN   \n",
      "\n",
      "           Referencia1 Referencia2 Referencia3  Peso  IdServicio  ...  \\\n",
      "4                 SUMA          80  MT 80CC 2T    75           1  ...   \n",
      "5                  KTZ         100    MT 100CC    78           1  ...   \n",
      "6                BAJAJ  PLUS POWER    AT 150CC    95           1  ...   \n",
      "7                  ZIP          80     AT 80CC    77           1  ...   \n",
      "8                   KB         125    MT 125CC    93           1  ...   \n",
      "...                ...         ...         ...   ...         ...  ...   \n",
      "12427       SHIPPER ST      1200 W        ELEC   103           1  ...   \n",
      "12428            SUNNY      1200 W        ELEC    98           1  ...   \n",
      "12429  TURISMO LEGGERA         125      AT 125   100           1  ...   \n",
      "12430     LUCKY SPORTS    HJ 110-3    AT 110CC   107           1  ...   \n",
      "12431             COOL    HJ 150-9    MT 150CC   138           1  ...   \n",
      "\n",
      "      CapacidadPasajeros  CapacidadCarga  Puertas  AireAcondicionado  Ejes  \\\n",
      "4                      2               0        0                  0     2   \n",
      "5                      2               0        0                  0     2   \n",
      "6                      2               0        0                  0     2   \n",
      "7                      2               0        0                  0     2   \n",
      "8                      2               0        0                  0     2   \n",
      "...                  ...             ...      ...                ...   ...   \n",
      "12427                  2               0        0                  0     2   \n",
      "12428                  2               0        0                  0     2   \n",
      "12429                  2               0        0                  0     2   \n",
      "12430                  2               0        0                  0     2   \n",
      "12431                  2               0        0                  0     2   \n",
      "\n",
      "       Estado  Combustible  Transmision  Um  PesoCategoria  \n",
      "4      Activo          GSL          2X1   0              1  \n",
      "5      Activo          GSL          2X1   0              1  \n",
      "6      Activo          GSL          2X1   0              1  \n",
      "7      Activo          GSL          2X1   0              1  \n",
      "8      Activo          GSL          2X1   0              1  \n",
      "...       ...          ...          ...  ..            ...  \n",
      "12427  Activo          ELT          2X1   0              1  \n",
      "12428  Activo          ELT          2X1   0              1  \n",
      "12429  Activo          GSL          2X1   0              1  \n",
      "12430  Activo          GSL          2X1   0              1  \n",
      "12431  Activo          GSL          2X1   0              1  \n",
      "\n",
      "[1491 rows x 76 columns]\n",
      "Marca Auteco\n",
      "      Novedad    Marca        Clase    Codigo  HomologoCodigo  \\\n",
      "4           M   AUTECO  MOTOCICLETA    317003             NaN   \n",
      "5           M   AUTECO  MOTOCICLETA    317004             NaN   \n",
      "6           M   AUTECO  MOTOCICLETA    317006             NaN   \n",
      "7           M   AUTECO  MOTOCICLETA    317007             NaN   \n",
      "8           M   AUTECO  MOTOCICLETA    317008             NaN   \n",
      "...       ...      ...          ...       ...             ...   \n",
      "12427       N  STÄRKER  MOTOCICLETA  40017003             NaN   \n",
      "12428       N  STÄRKER  MOTOCICLETA  40017004             NaN   \n",
      "12429       N  SCOMADI  MOTOCICLETA  40117001             NaN   \n",
      "12430       N   HAOJUE  MOTOCICLETA  40217001             NaN   \n",
      "12431       N   HAOJUE  MOTOCICLETA  40217002             NaN   \n",
      "\n",
      "           Referencia1 Referencia2 Referencia3  Peso  IdServicio  ...  \\\n",
      "4                 SUMA          80  MT 80CC 2T    75           1  ...   \n",
      "5                  KTZ         100    MT 100CC    78           1  ...   \n",
      "6                BAJAJ  PLUS POWER    AT 150CC    95           1  ...   \n",
      "7                  ZIP          80     AT 80CC    77           1  ...   \n",
      "8                   KB         125    MT 125CC    93           1  ...   \n",
      "...                ...         ...         ...   ...         ...  ...   \n",
      "12427       SHIPPER ST      1200 W        ELEC   103           1  ...   \n",
      "12428            SUNNY      1200 W        ELEC    98           1  ...   \n",
      "12429  TURISMO LEGGERA         125      AT 125   100           1  ...   \n",
      "12430     LUCKY SPORTS    HJ 110-3    AT 110CC   107           1  ...   \n",
      "12431             COOL    HJ 150-9    MT 150CC   138           1  ...   \n",
      "\n",
      "      CapacidadPasajeros  CapacidadCarga  Puertas  AireAcondicionado  Ejes  \\\n",
      "4                      2               0        0                  0     2   \n",
      "5                      2               0        0                  0     2   \n",
      "6                      2               0        0                  0     2   \n",
      "7                      2               0        0                  0     2   \n",
      "8                      2               0        0                  0     2   \n",
      "...                  ...             ...      ...                ...   ...   \n",
      "12427                  2               0        0                  0     2   \n",
      "12428                  2               0        0                  0     2   \n",
      "12429                  2               0        0                  0     2   \n",
      "12430                  2               0        0                  0     2   \n",
      "12431                  2               0        0                  0     2   \n",
      "\n",
      "       Estado  Combustible  Transmision  Um  PesoCategoria  \n",
      "4      Activo          GSL          2X1   0              1  \n",
      "5      Activo          GSL          2X1   0              1  \n",
      "6      Activo          GSL          2X1   0              1  \n",
      "7      Activo          GSL          2X1   0              1  \n",
      "8      Activo          GSL          2X1   0              1  \n",
      "...       ...          ...          ...  ..            ...  \n",
      "12427  Activo          ELT          2X1   0              1  \n",
      "12428  Activo          ELT          2X1   0              1  \n",
      "12429  Activo          GSL          2X1   0              1  \n",
      "12430  Activo          GSL          2X1   0              1  \n",
      "12431  Activo          GSL          2X1   0              1  \n",
      "\n",
      "[1491 rows x 76 columns]\n",
      "De 4 puertas\n",
      "      Novedad    Marca        Clase    Codigo  HomologoCodigo  \\\n",
      "4           M   AUTECO  MOTOCICLETA    317003             NaN   \n",
      "5           M   AUTECO  MOTOCICLETA    317004             NaN   \n",
      "6           M   AUTECO  MOTOCICLETA    317006             NaN   \n",
      "7           M   AUTECO  MOTOCICLETA    317007             NaN   \n",
      "8           M   AUTECO  MOTOCICLETA    317008             NaN   \n",
      "...       ...      ...          ...       ...             ...   \n",
      "12427       N  STÄRKER  MOTOCICLETA  40017003             NaN   \n",
      "12428       N  STÄRKER  MOTOCICLETA  40017004             NaN   \n",
      "12429       N  SCOMADI  MOTOCICLETA  40117001             NaN   \n",
      "12430       N   HAOJUE  MOTOCICLETA  40217001             NaN   \n",
      "12431       N   HAOJUE  MOTOCICLETA  40217002             NaN   \n",
      "\n",
      "           Referencia1 Referencia2 Referencia3  Peso  IdServicio  ...  \\\n",
      "4                 SUMA          80  MT 80CC 2T    75           1  ...   \n",
      "5                  KTZ         100    MT 100CC    78           1  ...   \n",
      "6                BAJAJ  PLUS POWER    AT 150CC    95           1  ...   \n",
      "7                  ZIP          80     AT 80CC    77           1  ...   \n",
      "8                   KB         125    MT 125CC    93           1  ...   \n",
      "...                ...         ...         ...   ...         ...  ...   \n",
      "12427       SHIPPER ST      1200 W        ELEC   103           1  ...   \n",
      "12428            SUNNY      1200 W        ELEC    98           1  ...   \n",
      "12429  TURISMO LEGGERA         125      AT 125   100           1  ...   \n",
      "12430     LUCKY SPORTS    HJ 110-3    AT 110CC   107           1  ...   \n",
      "12431             COOL    HJ 150-9    MT 150CC   138           1  ...   \n",
      "\n",
      "      CapacidadPasajeros  CapacidadCarga  Puertas  AireAcondicionado  Ejes  \\\n",
      "4                      2               0        0                  0     2   \n",
      "5                      2               0        0                  0     2   \n",
      "6                      2               0        0                  0     2   \n",
      "7                      2               0        0                  0     2   \n",
      "8                      2               0        0                  0     2   \n",
      "...                  ...             ...      ...                ...   ...   \n",
      "12427                  2               0        0                  0     2   \n",
      "12428                  2               0        0                  0     2   \n",
      "12429                  2               0        0                  0     2   \n",
      "12430                  2               0        0                  0     2   \n",
      "12431                  2               0        0                  0     2   \n",
      "\n",
      "       Estado  Combustible  Transmision  Um  PesoCategoria  \n",
      "4      Activo          GSL          2X1   0              1  \n",
      "5      Activo          GSL          2X1   0              1  \n",
      "6      Activo          GSL          2X1   0              1  \n",
      "7      Activo          GSL          2X1   0              1  \n",
      "8      Activo          GSL          2X1   0              1  \n",
      "...       ...          ...          ...  ..            ...  \n",
      "12427  Activo          ELT          2X1   0              1  \n",
      "12428  Activo          ELT          2X1   0              1  \n",
      "12429  Activo          GSL          2X1   0              1  \n",
      "12430  Activo          GSL          2X1   0              1  \n",
      "12431  Activo          GSL          2X1   0              1  \n",
      "\n",
      "[1491 rows x 76 columns]\n"
     ]
    }
   ],
   "source": [
    "\n",
    "import pandas as pd\n",
    "from IPython.display import display, HTML\n",
    "data = pd.read_csv('guia_fasecolda.csv')\n",
    "print(data.columns)\n",
    "\n",
    "#FILTROS DE PANDAS \n",
    "## Se uso la funcion de data para filtrar valores string en las columnas y sacar valores puntuales.\n",
    "#1 \n",
    "d=data[data[\"Clase\"].isin([\"MOTOCICLETA\"])]\n",
    "print (\"Clase\")\n",
    "print(d)\n",
    "#2\n",
    "data[data[\"Marca\"].isin([\"AUTECO\"])]\n",
    "print (\"Marca Auteco\")\n",
    "print(d)\n",
    "#3\n",
    "data[data[\"Puertas\"].isin([\"4\"])]\n",
    "print (\"De 4 puertas\")\n",
    "print(d)\n",
    "\n",
    "\n",
    "\n",
    "#display(HTML((data.head().to_html())))\n",
    "#print(df[data['2015']>50000])\n"
   ]
  },
  {
   "cell_type": "code",
   "execution_count": 163,
   "metadata": {
    "id": "hZm4TQoPVpV3"
   },
   "outputs": [
    {
     "data": {
      "text/plain": [
       "<Figure size 432x288 with 0 Axes>"
      ]
     },
     "metadata": {},
     "output_type": "display_data"
    },
    {
     "data": {
      "image/png": "[encoded data removed]",
      "text/plain": [
       "<Figure size 432x288 with 1 Axes>"
      ]
     },
     "metadata": {
      "needs_background": "light"
     },
     "output_type": "display_data"
    },
    {
     "data": {
      "text/plain": [
       "<Figure size 432x288 with 0 Axes>"
      ]
     },
     "metadata": {},
     "output_type": "display_data"
    },
    {
     "data": {
      "image/png": "[encoded data removed]",
      "text/plain": [
       "<Figure size 432x288 with 1 Axes>"
      ]
     },
     "metadata": {
      "needs_background": "light"
     },
     "output_type": "display_data"
    },
    {
     "data": {
      "text/plain": [
       "<Figure size 432x288 with 0 Axes>"
      ]
     },
     "metadata": {},
     "output_type": "display_data"
    },
    {
     "data": {
      "image/png": "[encoded data removed]",
      "text/plain": [
       "<Figure size 432x288 with 1 Axes>"
      ]
     },
     "metadata": {
      "needs_background": "light"
     },
     "output_type": "display_data"
    }
   ],
   "source": [
    "\n",
    "%matplotlib inline\n",
    "import pandas as pd\n",
    "import matplotlib.pyplot as plt\n",
    "\n",
    "plt.figure()\n",
    "data[['Cilindraje','Peso']].plot(kind = 'box',ylim=(-10000,10000))\n",
    "plt.title('mi primera grafica')\n",
    "plt.show()\n",
    "\n",
    "plt.figure()\n",
    "data[['2010','Peso']].plot(kind = 'box',ylim=(-10000,10000))\n",
    "plt.title('Mi Segunda grafica')\n",
    "plt.show()\n",
    "\n",
    "plt.figure()\n",
    "data[['Puertas','Peso']].plot(kind = 'box',ylim=(-1000,1000))\n",
    "plt.title('Mi Tercera grafica')\n",
    "plt.show()\n",
    "\n",
    "\n",
    "\n",
    "\n"
   ]
  },
  {
   "cell_type": "code",
   "execution_count": null,
   "metadata": {},
   "outputs": [],
   "source": [
    "#Conclusiones \n",
    "## Se puede obtener la informacion de valor agregado con esta informacion: \n",
    "### - Determinar la marca de carro mas vendida durante el año\n",
    "### - Determinar el top de mejores opciones de los clientes al elegir un auto sea automovil que tipo de cilidranje es el mas frecuente\n",
    "### - Que es mas vendido en transporte(Moto u automovil) para asi tomar desiciones e impactar la publicidad y marketing de la empresa.\n",
    "\n",
    "## Una base de datos relacional.\n",
    "\n",
    "## medidas aritmeticas se pueden usar para determinar el promedio,maximos,minimos y regresion lineal en casos de revision de tendencias.\n",
    "\n",
    "## Machine learning automatizado en este caso se puede implementar con la informacion por años de los medios de transporte \n",
    "## y determinar cual sera la tendencia de los proximos años.\n"
   ]
  },
  {
   "cell_type": "markdown",
   "metadata": {
    "id": "AZWrD9j-HNBV",
    "tags": []
   },
   "source": [
    "## Conclusiones\n",
    "\n",
    "De acuerdo a este análisis previo de los datos sobre la base de datos de FASECOLDA, que preguntas harias de análisis de datos que puedan generar valor.\n",
    "\n",
    "Con que otra base de datos trabajarias para obtener valor de estos datos.\n",
    "\n",
    "Utilize por lo menos dos análisis del curso de estadistica y/o de visualización de datos  para este problema.\n",
    "\n",
    "Plantea una pregunta aprendizaje supervisado y otra de supervisado que pensarias genere valor sobre este dataset\n",
    "\n",
    "**NOTA** Para seguir validando su nivel de conocimiento del lenguaje, comparto [esta guia expandida sobre python y jupyter notebook](https://utadeoeduco0-my.sharepoint.com/:u:/g/personal/olmer_garciab_utadeo_edu_co/ETTmzDrvd5FBt43XoYvU6lAB5m0-kbbfzHjroIwBIhp8rg?e=VIawsl)"
   ]
  }
 ],
 "metadata": {
  "colab": {
   "collapsed_sections": [
    "XpDZB-nQVpVp"
   ],
   "provenance": [],
   "toc_visible": true
  },
  "kernelspec": {
   "display_name": "anaconda-2022.05-py39",
   "language": "python",
   "name": "conda-env-anaconda-2022.05-py39-py"
  },
  "language_info": {
   "codemirror_mode": {
    "name": "ipython",
    "version": 3
   },
   "file_extension": ".py",
   "mimetype": "text/x-python",
   "name": "python",
   "nbconvert_exporter": "python",
   "pygments_lexer": "ipython3",
   "version": "3.9.12"
  },
  "vscode": {
   "interpreter": {
    "hash": "1b2e13f96e6b6c0a12d1c52290219c17168db456038a20acb3f88b4d1585ce13"
   }
  }
 },
 "nbformat": 4,
 "nbformat_minor": 4
}
